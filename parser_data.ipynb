{
 "cells": [
  {
   "cell_type": "code",
   "execution_count": 1,
   "id": "4032aabb-6772-43ba-b745-574fc5975414",
   "metadata": {},
   "outputs": [],
   "source": [
    "import csv"
   ]
  },
  {
   "cell_type": "code",
   "execution_count": 2,
   "id": "0913eedc-ed3d-41b9-8490-39ec2b01858a",
   "metadata": {},
   "outputs": [],
   "source": [
    "with open('datasets/train/train_v2.csv') as f:\n",
    "    reader = csv.DictReader(f)\n",
    "    data = [row for row in reader]"
   ]
  },
  {
   "cell_type": "code",
   "execution_count": 3,
   "id": "f9896d3f-1fe4-45d2-8e93-58d1c0851320",
   "metadata": {},
   "outputs": [
    {
     "data": {
      "text/plain": [
       "{'image_name': 'train_0', 'tags': 'haze primary'}"
      ]
     },
     "execution_count": 3,
     "metadata": {},
     "output_type": "execute_result"
    }
   ],
   "source": [
    "data[0]"
   ]
  },
  {
   "cell_type": "code",
   "execution_count": 4,
   "id": "75fa9d76-2368-4293-ac52-7aa26c9f8f5b",
   "metadata": {},
   "outputs": [],
   "source": [
    "deforestation = [\n",
    "    'agriculture',\n",
    "    'conventional_mine',\n",
    "    'bare_ground',\n",
    "    'artisinal_mine',\n",
    "    'cultivation',\n",
    "    'habitation',\n",
    "    'road',\n",
    "    'selective_logging',\n",
    "    'slash_burn'\n",
    "]"
   ]
  },
  {
   "cell_type": "code",
   "execution_count": 5,
   "id": "e8164d19-40ee-4e87-b338-7accb1ec489e",
   "metadata": {},
   "outputs": [],
   "source": [
    "treated_data = [\n",
    "    {\n",
    "        'image_name': row['image_name'],\n",
    "        'has_deforestation': True if len([i for i in deforestation if i in row['tags']]) > 0 else False,\n",
    "        'tags': row['tags']\n",
    "    } for row in data]"
   ]
  },
  {
   "cell_type": "code",
   "execution_count": 6,
   "id": "b425e97c-eee9-4b18-99c0-e1bb746c4ea7",
   "metadata": {},
   "outputs": [
    {
     "data": {
      "text/plain": [
       "{'image_name': 'train_0', 'has_deforestation': False, 'tags': 'haze primary'}"
      ]
     },
     "execution_count": 6,
     "metadata": {},
     "output_type": "execute_result"
    }
   ],
   "source": [
    "treated_data[0]"
   ]
  },
  {
   "cell_type": "code",
   "execution_count": 8,
   "id": "5ebc6568-71e5-4570-bffc-0873b24e28c9",
   "metadata": {},
   "outputs": [],
   "source": [
    "with open('datasets/train/train_treated.csv', 'w') as f:\n",
    "    writer = csv.DictWriter(f, fieldnames=['image_name', 'has_deforestation', 'tags'])\n",
    "    writer.writeheader()\n",
    "    writer.writerows(treated_data)"
   ]
  },
  {
   "cell_type": "code",
   "execution_count": null,
   "id": "607a0e14-4ab4-4d9b-b7f9-b14619a3b797",
   "metadata": {},
   "outputs": [],
   "source": []
  }
 ],
 "metadata": {
  "environment": {
   "kernel": "python3",
   "name": "pytorch-gpu.1-13.m109",
   "type": "gcloud",
   "uri": "gcr.io/deeplearning-platform-release/pytorch-gpu.1-13:m109"
  },
  "kernelspec": {
   "display_name": "Python 3",
   "language": "python",
   "name": "python3"
  },
  "language_info": {
   "codemirror_mode": {
    "name": "ipython",
    "version": 3
   },
   "file_extension": ".py",
   "mimetype": "text/x-python",
   "name": "python",
   "nbconvert_exporter": "python",
   "pygments_lexer": "ipython3",
   "version": "3.10.11"
  }
 },
 "nbformat": 4,
 "nbformat_minor": 5
}
